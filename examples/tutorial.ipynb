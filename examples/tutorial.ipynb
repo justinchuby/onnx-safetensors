{
  "cells": [
    {
      "cell_type": "markdown",
      "metadata": {},
      "source": [
        "# ONNX Safetensors Tutorial\n",
        "\n",
        "This notebook demonstrates how to use the public API of the `onnx_safetensors` package to load and save ONNX models using safetensors."
      ]
    },
    {
      "cell_type": "code",
      "execution_count": null,
      "metadata": {},
      "outputs": [],
      "source": [
        "!pip install --upgrade onnx-safetensors onnx numpy"
      ]
    },
    {
      "cell_type": "markdown",
      "id": "01186fe0",
      "metadata": {},
      "source": [
        "## Create a simple ONNX model\n",
        "\n",
        "We create a simple ONNX model using ONNX helper APIs:"
      ]
    },
    {
      "cell_type": "code",
      "execution_count": null,
      "id": "6934e7a8",
      "metadata": {},
      "outputs": [],
      "source": [
        "import numpy as np\n",
        "import onnx\n",
        "from onnx import helper, TensorProto\n",
        "\n",
        "# Create a simple model: Y = X + W, where W is an initializer\n",
        "input_tensor = helper.make_tensor_value_info(\"input\", TensorProto.FLOAT, [1, 3])\n",
        "output_tensor = helper.make_tensor_value_info(\"output\", TensorProto.FLOAT, [1, 3])\n",
        "\n",
        "# Create an initializer tensor\n",
        "weights = np.array([1.0, 2.0, 3.0], dtype=np.float32)\n",
        "weights_initializer = helper.make_tensor(\n",
        "    name=\"weights\",\n",
        "    data_type=TensorProto.FLOAT,\n",
        "    dims=weights.shape,\n",
        "    vals=weights.flatten().tolist(),\n",
        ")\n",
        "\n",
        "# Create a node (Add operation)\n",
        "node_def = helper.make_node(\n",
        "    \"Add\",\n",
        "    inputs=[\"input\", \"weights\"],\n",
        "    outputs=[\"output\"],\n",
        ")\n",
        "\n",
        "# Create the graph\n",
        "graph_def = helper.make_graph(\n",
        "    nodes=[node_def],\n",
        "    name=\"SimpleGraph\",\n",
        "    inputs=[helper.make_tensor_value_info(\"input\", TensorProto.FLOAT, [1, 3])],\n",
        "    outputs=[helper.make_tensor_value_info(\"output\", TensorProto.FLOAT, [1, 3])],\n",
        "    initializer=[weights_initializer],\n",
        ")\n",
        "\n",
        "# Create the model\n",
        "model_def = helper.make_model(graph_def, producer_name=\"onnx-safetensors-example\")\n",
        "\n",
        "# Save the model\n",
        "onnx.save(model_def, \"model.onnx\")"
      ]
    },
    {
      "cell_type": "markdown",
      "metadata": {},
      "source": [
        "## Loading tensors from a safetensors file into an ONNX model\n",
        "\n",
        "We first create a safetensors file with compatible weights, then load these weights into the ONNX model."
      ]
    },
    {
      "cell_type": "code",
      "execution_count": null,
      "id": "3411a3b0",
      "metadata": {},
      "outputs": [],
      "source": [
        "import onnx_safetensors\n",
        "import numpy as np\n",
        "\n",
        "# Create a safetensors file with compatible weights\n",
        "weights_dict = {\"weights\": np.array([4.0, 5.0, 6.0], dtype=np.float32)}\n",
        "onnx_safetensors.save(weights_dict, \"weights.safetensors\")\n",
        "\n",
        "model = onnx.load(\"model.onnx\")\n",
        "\n",
        "onnx_safetensors.save_file(model, 'weights.safetensors', replace_data=False)"
      ]
    },
    {
      "cell_type": "markdown",
      "metadata": {},
      "source": [
        "### Using safetensors as external data for ONNX\n",
        "\n",
        "You can also save the ONNX model to use safetensors as external data."
      ]
    },
    {
      "cell_type": "code",
      "execution_count": null,
      "metadata": {},
      "outputs": [],
      "source": [
        "# Save the model to use safetensors as external data\n",
        "model_with_external_data = onnx_safetensors.save_file(model, 'model.safetensors', base_dir='.', replace_data=True)\n",
        "\n",
        "# Save the modified model\n",
        "onnx.save(model, 'model_with_external_data.onnx')"
      ]
    },
    {
      "cell_type": "markdown",
      "metadata": {},
      "source": [
        "Now, the ONNX model uses the safetensors file as external data, which can be loaded efficiently."
      ]
    }
  ],
  "metadata": {
    "kernelspec": {
      "language": "python",
      "name": "python3"
    },
    "language_info": {
      "version": "3.x"
    }
  },
  "nbformat": 4,
  "nbformat_minor": 5
}
